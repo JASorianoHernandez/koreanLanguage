{
 "cells": [
  {
   "cell_type": "markdown",
   "id": "3d9d0184",
   "metadata": {},
   "source": [
    "# Processing Hanja"
   ]
  },
  {
   "cell_type": "code",
   "execution_count": 1,
   "id": "467da8f7",
   "metadata": {},
   "outputs": [
    {
     "name": "stdout",
     "output_type": "stream",
     "text": [
      "Collecting konlpy\n",
      "  Downloading konlpy-0.6.0-py2.py3-none-any.whl (19.4 MB)\n",
      "Requirement already satisfied: lxml>=4.1.0 in c:\\programdata\\anaconda3\\lib\\site-packages (from konlpy) (4.6.3)\n",
      "Requirement already satisfied: numpy>=1.6 in c:\\programdata\\anaconda3\\lib\\site-packages (from konlpy) (1.20.3)\n",
      "Collecting JPype1>=0.7.0\n",
      "  Downloading JPype1-1.4.0-cp39-cp39-win_amd64.whl (344 kB)\n",
      "Installing collected packages: JPype1, konlpy\n",
      "Successfully installed JPype1-1.4.0 konlpy-0.6.0\n"
     ]
    },
    {
     "name": "stderr",
     "output_type": "stream",
     "text": [
      "WARNING: Ignoring invalid distribution -ikit-learn (c:\\programdata\\anaconda3\\lib\\site-packages)\n",
      "WARNING: Ignoring invalid distribution -ikit-learn (c:\\programdata\\anaconda3\\lib\\site-packages)\n",
      "WARNING: Ignoring invalid distribution - (c:\\programdata\\anaconda3\\lib\\site-packages)\n",
      "WARNING: Ignoring invalid distribution -cikit-learn (c:\\programdata\\anaconda3\\lib\\site-packages)\n",
      "WARNING: Ignoring invalid distribution -ikit-learn (c:\\programdata\\anaconda3\\lib\\site-packages)\n",
      "WARNING: Ignoring invalid distribution -ikit-learn (c:\\programdata\\anaconda3\\lib\\site-packages)\n",
      "WARNING: Ignoring invalid distribution - (c:\\programdata\\anaconda3\\lib\\site-packages)\n",
      "WARNING: Ignoring invalid distribution -cikit-learn (c:\\programdata\\anaconda3\\lib\\site-packages)\n",
      "WARNING: Ignoring invalid distribution -ikit-learn (c:\\programdata\\anaconda3\\lib\\site-packages)\n",
      "WARNING: Ignoring invalid distribution -ikit-learn (c:\\programdata\\anaconda3\\lib\\site-packages)\n",
      "WARNING: Ignoring invalid distribution - (c:\\programdata\\anaconda3\\lib\\site-packages)\n",
      "WARNING: Ignoring invalid distribution -cikit-learn (c:\\programdata\\anaconda3\\lib\\site-packages)\n",
      "WARNING: Ignoring invalid distribution -ikit-learn (c:\\programdata\\anaconda3\\lib\\site-packages)\n",
      "WARNING: Ignoring invalid distribution -ikit-learn (c:\\programdata\\anaconda3\\lib\\site-packages)\n",
      "WARNING: Ignoring invalid distribution - (c:\\programdata\\anaconda3\\lib\\site-packages)\n",
      "WARNING: Ignoring invalid distribution -cikit-learn (c:\\programdata\\anaconda3\\lib\\site-packages)\n",
      "WARNING: Ignoring invalid distribution -ikit-learn (c:\\programdata\\anaconda3\\lib\\site-packages)\n",
      "WARNING: Ignoring invalid distribution -ikit-learn (c:\\programdata\\anaconda3\\lib\\site-packages)\n",
      "WARNING: Ignoring invalid distribution - (c:\\programdata\\anaconda3\\lib\\site-packages)\n",
      "WARNING: Ignoring invalid distribution -cikit-learn (c:\\programdata\\anaconda3\\lib\\site-packages)\n",
      "WARNING: Ignoring invalid distribution -ikit-learn (c:\\programdata\\anaconda3\\lib\\site-packages)\n",
      "WARNING: Ignoring invalid distribution -ikit-learn (c:\\programdata\\anaconda3\\lib\\site-packages)\n",
      "WARNING: Ignoring invalid distribution - (c:\\programdata\\anaconda3\\lib\\site-packages)\n",
      "WARNING: Ignoring invalid distribution -cikit-learn (c:\\programdata\\anaconda3\\lib\\site-packages)\n",
      "WARNING: Ignoring invalid distribution -ikit-learn (c:\\programdata\\anaconda3\\lib\\site-packages)\n",
      "WARNING: Ignoring invalid distribution -ikit-learn (c:\\programdata\\anaconda3\\lib\\site-packages)\n",
      "WARNING: Ignoring invalid distribution - (c:\\programdata\\anaconda3\\lib\\site-packages)\n",
      "WARNING: Ignoring invalid distribution -cikit-learn (c:\\programdata\\anaconda3\\lib\\site-packages)\n",
      "WARNING: Ignoring invalid distribution -ikit-learn (c:\\programdata\\anaconda3\\lib\\site-packages)\n",
      "WARNING: Ignoring invalid distribution -ikit-learn (c:\\programdata\\anaconda3\\lib\\site-packages)\n",
      "WARNING: Ignoring invalid distribution - (c:\\programdata\\anaconda3\\lib\\site-packages)\n",
      "WARNING: Ignoring invalid distribution -cikit-learn (c:\\programdata\\anaconda3\\lib\\site-packages)\n"
     ]
    },
    {
     "name": "stdout",
     "output_type": "stream",
     "text": [
      "['네, 안녕하세요.', '반갑습니다.']\n"
     ]
    }
   ],
   "source": [
    "!pip install konlpy\n",
    "import pandas as pd\n",
    "from konlpy.tag import Kkma\n",
    "from konlpy.utils import pprint\n",
    "kkma = Kkma()\n",
    "pprint(kkma.sentences(u'네, 안녕하세요. 반갑습니다.'))"
   ]
  },
  {
   "cell_type": "code",
   "execution_count": 3,
   "id": "c128e938",
   "metadata": {},
   "outputs": [],
   "source": [
    "df_hanjas = pd.read_csv(\"hanjas.csv\")"
   ]
  },
  {
   "cell_type": "code",
   "execution_count": 4,
   "id": "e5b1aca1",
   "metadata": {},
   "outputs": [
    {
     "data": {
      "text/html": [
       "<div>\n",
       "<style scoped>\n",
       "    .dataframe tbody tr th:only-of-type {\n",
       "        vertical-align: middle;\n",
       "    }\n",
       "\n",
       "    .dataframe tbody tr th {\n",
       "        vertical-align: top;\n",
       "    }\n",
       "\n",
       "    .dataframe thead th {\n",
       "        text-align: right;\n",
       "    }\n",
       "</style>\n",
       "<table border=\"1\" class=\"dataframe\">\n",
       "  <thead>\n",
       "    <tr style=\"text-align: right;\">\n",
       "      <th></th>\n",
       "      <th>hanja한자</th>\n",
       "      <th>strokes총획수</th>\n",
       "      <th>sound장단음</th>\n",
       "      <th>meaningKr_1</th>\n",
       "      <th>meaningKr_2</th>\n",
       "      <th>sound長短音</th>\n",
       "      <th>JLPT</th>\n",
       "      <th>meaningEsp_1</th>\n",
       "      <th>meaningEsp_2</th>\n",
       "    </tr>\n",
       "  </thead>\n",
       "  <tbody>\n",
       "    <tr>\n",
       "      <th>0</th>\n",
       "      <td>含</td>\n",
       "      <td>7</td>\n",
       "      <td>머금을 함</td>\n",
       "      <td>머금다</td>\n",
       "      <td>품다</td>\n",
       "      <td>ふく.む</td>\n",
       "      <td>2</td>\n",
       "      <td>guardar</td>\n",
       "      <td>encubar</td>\n",
       "    </tr>\n",
       "    <tr>\n",
       "      <th>1</th>\n",
       "      <td>血</td>\n",
       "      <td>6</td>\n",
       "      <td>피 혈</td>\n",
       "      <td>피</td>\n",
       "      <td>물들이다</td>\n",
       "      <td>ち</td>\n",
       "      <td>3</td>\n",
       "      <td>sangre</td>\n",
       "      <td>teñir</td>\n",
       "    </tr>\n",
       "    <tr>\n",
       "      <th>2</th>\n",
       "      <td>噴</td>\n",
       "      <td>15</td>\n",
       "      <td>뿜을 분</td>\n",
       "      <td>뿜다</td>\n",
       "      <td>꾸짖다</td>\n",
       "      <td>ふ.く</td>\n",
       "      <td>1</td>\n",
       "      <td>exhalar</td>\n",
       "      <td>reprender</td>\n",
       "    </tr>\n",
       "    <tr>\n",
       "      <th>3</th>\n",
       "      <td>人</td>\n",
       "      <td>2</td>\n",
       "      <td>사람 인</td>\n",
       "      <td>사람</td>\n",
       "      <td>인간</td>\n",
       "      <td>ひと</td>\n",
       "      <td>5</td>\n",
       "      <td>persona</td>\n",
       "      <td>humano</td>\n",
       "    </tr>\n",
       "    <tr>\n",
       "      <th>4</th>\n",
       "      <td>先</td>\n",
       "      <td>6</td>\n",
       "      <td>먼저 선</td>\n",
       "      <td>먼저</td>\n",
       "      <td>이전</td>\n",
       "      <td>さき</td>\n",
       "      <td>5</td>\n",
       "      <td>primero</td>\n",
       "      <td>tranferencia</td>\n",
       "    </tr>\n",
       "    <tr>\n",
       "      <th>5</th>\n",
       "      <td>汚</td>\n",
       "      <td>6</td>\n",
       "      <td>더러울 오</td>\n",
       "      <td>더럽다</td>\n",
       "      <td>나쁘다</td>\n",
       "      <td>きたな</td>\n",
       "      <td>2</td>\n",
       "      <td>ensuciarse</td>\n",
       "      <td>malo</td>\n",
       "    </tr>\n",
       "    <tr>\n",
       "      <th>6</th>\n",
       "      <td>其</td>\n",
       "      <td>8</td>\n",
       "      <td>그 기</td>\n",
       "      <td>그</td>\n",
       "      <td>만약</td>\n",
       "      <td>それ</td>\n",
       "      <td>5</td>\n",
       "      <td>eso</td>\n",
       "      <td>si</td>\n",
       "    </tr>\n",
       "    <tr>\n",
       "      <th>7</th>\n",
       "      <td>口</td>\n",
       "      <td>3</td>\n",
       "      <td>입 구</td>\n",
       "      <td>입</td>\n",
       "      <td>어귀</td>\n",
       "      <td>くち</td>\n",
       "      <td>4</td>\n",
       "      <td>boca</td>\n",
       "      <td>entrada</td>\n",
       "    </tr>\n",
       "    <tr>\n",
       "      <th>8</th>\n",
       "      <td>海</td>\n",
       "      <td>10</td>\n",
       "      <td>바다 해</td>\n",
       "      <td>바다</td>\n",
       "      <td>바닷 물</td>\n",
       "      <td>うみ</td>\n",
       "      <td>4</td>\n",
       "      <td>mar</td>\n",
       "      <td>agua de mar</td>\n",
       "    </tr>\n",
       "    <tr>\n",
       "      <th>9</th>\n",
       "      <td>不</td>\n",
       "      <td>4</td>\n",
       "      <td>아닐 부</td>\n",
       "      <td>아니다</td>\n",
       "      <td>아니하다</td>\n",
       "      <td>ふ</td>\n",
       "      <td>4</td>\n",
       "      <td>no</td>\n",
       "      <td>negarse</td>\n",
       "    </tr>\n",
       "  </tbody>\n",
       "</table>\n",
       "</div>"
      ],
      "text/plain": [
       "  hanja한자  strokes총획수 sound장단음 meaningKr_1 meaningKr_2 sound長短音  JLPT  \\\n",
       "0       含           7    머금을 함         머금다          품다     ふく.む     2   \n",
       "1       血           6      피 혈           피        물들이다        ち     3   \n",
       "2       噴          15     뿜을 분          뿜다         꾸짖다      ふ.く     1   \n",
       "3       人           2     사람 인          사람          인간       ひと     5   \n",
       "4       先           6     먼저 선          먼저          이전       さき     5   \n",
       "5       汚           6    더러울 오         더럽다         나쁘다      きたな     2   \n",
       "6       其           8      그 기           그          만약       それ     5   \n",
       "7       口           3      입 구           입          어귀       くち     4   \n",
       "8       海          10     바다 해          바다        바닷 물       うみ     4   \n",
       "9       不           4     아닐 부         아니다        아니하다        ふ     4   \n",
       "\n",
       "  meaningEsp_1  meaningEsp_2  \n",
       "0      guardar       encubar  \n",
       "1       sangre         teñir  \n",
       "2      exhalar     reprender  \n",
       "3      persona        humano  \n",
       "4      primero  tranferencia  \n",
       "5   ensuciarse          malo  \n",
       "6          eso            si  \n",
       "7         boca       entrada  \n",
       "8          mar   agua de mar  \n",
       "9           no       negarse  "
      ]
     },
     "execution_count": 4,
     "metadata": {},
     "output_type": "execute_result"
    }
   ],
   "source": [
    "df_hanjas.head(10)"
   ]
  },
  {
   "cell_type": "code",
   "execution_count": 5,
   "id": "fc35019c",
   "metadata": {},
   "outputs": [
    {
     "name": "stdout",
     "output_type": "stream",
     "text": [
      "[('오류', 'NNG'),\n",
      " ('보고', 'NNG'),\n",
      " ('는', 'JX'),\n",
      " ('실행', 'NNG'),\n",
      " ('환경', 'NNG'),\n",
      " (',', 'SP'),\n",
      " ('에러', 'NNG'),\n",
      " ('메세지', 'NNG'),\n",
      " ('와', 'JKM'),\n",
      " ('함께', 'MAG'),\n",
      " ('설명', 'NNG'),\n",
      " ('을', 'JKO'),\n",
      " ('최대한', 'NNG'),\n",
      " ('상세히', 'MAG'),\n",
      " ('!', 'SF'),\n",
      " ('^^', 'EMO')]\n"
     ]
    }
   ],
   "source": [
    "pprint(kkma.pos(u'오류보고는 실행환경, 에러메세지와함께 설명을 최대한상세히!^^'))"
   ]
  },
  {
   "cell_type": "code",
   "execution_count": 6,
   "id": "38dab3b9",
   "metadata": {},
   "outputs": [
    {
     "name": "stdout",
     "output_type": "stream",
     "text": [
      "['질문', '건의', '건의사항', '사항', '깃헙', '이슈', '트래커']\n"
     ]
    }
   ],
   "source": [
    "pprint(kkma.nouns(u'질문이나 건의사항은 깃헙 이슈 트래커에 남겨주세요.'))"
   ]
  },
  {
   "cell_type": "code",
   "execution_count": 24,
   "id": "5ebd8e42",
   "metadata": {},
   "outputs": [
    {
     "data": {
      "text/plain": [
       "list"
      ]
     },
     "execution_count": 24,
     "metadata": {},
     "output_type": "execute_result"
    }
   ],
   "source": [
    "type(kkma.nouns(u'질문이나 건의사항은 깃헙 이슈 트래커에 남겨주세요.'))"
   ]
  },
  {
   "cell_type": "code",
   "execution_count": 52,
   "id": "84fb9bee",
   "metadata": {},
   "outputs": [
    {
     "data": {
      "text/plain": [
       "[('0', 'NR'),\n",
       " ('머금', 'VV'),\n",
       " ('다', 'ECS'),\n",
       " ('1', 'NR'),\n",
       " ('피', 'NNG'),\n",
       " ('2', 'NR'),\n",
       " ('뿜', 'VV'),\n",
       " ('다', 'ECS'),\n",
       " ('3', 'NR'),\n",
       " ('사람', 'NNG'),\n",
       " ('4', 'NR'),\n",
       " ('먼저', 'MAG'),\n",
       " ('5', 'NR'),\n",
       " ('더럽', 'VA'),\n",
       " ('다', 'ECS'),\n",
       " ('6', 'NR'),\n",
       " ('그', 'MDT'),\n",
       " ('7', 'NR'),\n",
       " ('입', 'NNG'),\n",
       " ('8', 'NR'),\n",
       " ('바다', 'NNG'),\n",
       " ('9', 'NR'),\n",
       " ('아니', 'VV'),\n",
       " ('다', 'ECS'),\n",
       " ('10', 'NR'),\n",
       " ('사', 'VV'),\n",
       " ('아', 'ECS'),\n",
       " ('양하', 'NNG'),\n",
       " ('이', 'VCP'),\n",
       " ('다', 'EFN'),\n",
       " ('11', 'NR'),\n",
       " ('물', 'NNG'),\n",
       " ('12', 'NR'),\n",
       " ('능', 'NNG'),\n",
       " ('하', 'XSV'),\n",
       " ('다', 'ECS'),\n",
       " ('13', 'NR'),\n",
       " ('넓', 'VA'),\n",
       " ('다', 'ECS'),\n",
       " ('14', 'NR'),\n",
       " ('크', 'VA'),\n",
       " ('다', 'ECS'),\n",
       " ('15', 'NR'),\n",
       " ('알', 'VV'),\n",
       " ('다', 'ECS'),\n",
       " ('16', 'NR'),\n",
       " ('발', 'NNB'),\n",
       " ('17', 'NR'),\n",
       " ('옳', 'VA'),\n",
       " ('다', 'ECS'),\n",
       " ('18', 'NR'),\n",
       " ('노래', 'NNG'),\n",
       " ('19', 'NR'),\n",
       " ('힘쓰', 'VV'),\n",
       " ('다', 'ECS'),\n",
       " ('20', 'NR'),\n",
       " ('탐내', 'VV'),\n",
       " ('다', 'ECS'),\n",
       " ('21', 'NR'),\n",
       " ('법칙', 'NNG'),\n",
       " ('22', 'NR'),\n",
       " ('근심', 'NNG'),\n",
       " ('23', 'NR'),\n",
       " ('저', 'VV'),\n",
       " ('어', 'ECS'),\n",
       " ('24', 'NR'),\n",
       " ('몸', 'NNG'),\n",
       " ('25', 'NR'),\n",
       " ('백', 'NR'),\n",
       " ('26', 'NR'),\n",
       " ('싸우', 'VV'),\n",
       " ('다', 'ECS'),\n",
       " ('27', 'NR'),\n",
       " ('위태', 'NNG'),\n",
       " ('하다', 'NNP'),\n",
       " ('28', 'NR'),\n",
       " ('몸', 'NNG'),\n",
       " ('29', 'NR'),\n",
       " ('몸', 'NNG'),\n",
       " ('30', 'NR'),\n",
       " ('터', 'NNG'),\n",
       " ('력', 'XSN'),\n",
       " ('31', 'NR'),\n",
       " ('살갗', 'NNG'),\n",
       " ('32', 'NR'),\n",
       " ('받', 'VV'),\n",
       " ('다', 'ECS'),\n",
       " ('33', 'NR'),\n",
       " ('가다', 'MAG'),\n",
       " ('34', 'NR'),\n",
       " ('아버지', 'NNG'),\n",
       " ('35', 'NR'),\n",
       " ('어머니', 'NNG'),\n",
       " ('Name', 'OL'),\n",
       " (':', 'SP'),\n",
       " ('meaningKr', 'OL'),\n",
       " ('_', 'SW'),\n",
       " ('1', 'NR'),\n",
       " (',', 'SP'),\n",
       " ('dtype', 'OL'),\n",
       " (':', 'SP'),\n",
       " ('object', 'OL')]"
      ]
     },
     "execution_count": 52,
     "metadata": {},
     "output_type": "execute_result"
    }
   ],
   "source": [
    "kkma.pos(str(df_hanjas['meaningKr_1'][:]))"
   ]
  },
  {
   "cell_type": "code",
   "execution_count": 46,
   "id": "fa3b8809",
   "metadata": {},
   "outputs": [
    {
     "name": "stdout",
     "output_type": "stream",
     "text": [
      "[('머금', 'VV'), ('다', 'EFN')]\n"
     ]
    }
   ],
   "source": [
    "pprint(kkma.pos(str(df_hanjas['meaningKr_1'][0])))"
   ]
  },
  {
   "cell_type": "code",
   "execution_count": 48,
   "id": "785a6efc",
   "metadata": {},
   "outputs": [
    {
     "data": {
      "text/plain": [
       "9.027777777777779"
      ]
     },
     "execution_count": 48,
     "metadata": {},
     "output_type": "execute_result"
    }
   ],
   "source": [
    "df_hanjas['strokes총획수'].mean()"
   ]
  },
  {
   "cell_type": "code",
   "execution_count": 49,
   "id": "ec42859a",
   "metadata": {},
   "outputs": [
    {
     "data": {
      "text/plain": [
       "24"
      ]
     },
     "execution_count": 49,
     "metadata": {},
     "output_type": "execute_result"
    }
   ],
   "source": [
    "df_hanjas['strokes총획수'].max()"
   ]
  },
  {
   "cell_type": "code",
   "execution_count": 50,
   "id": "7d3b4546",
   "metadata": {},
   "outputs": [
    {
     "data": {
      "text/plain": [
       "2"
      ]
     },
     "execution_count": 50,
     "metadata": {},
     "output_type": "execute_result"
    }
   ],
   "source": [
    "df_hanjas['strokes총획수'].min()"
   ]
  },
  {
   "cell_type": "code",
   "execution_count": 51,
   "id": "479e86ce",
   "metadata": {},
   "outputs": [
    {
     "data": {
      "text/plain": [
       "3.3333333333333335"
      ]
     },
     "execution_count": 51,
     "metadata": {},
     "output_type": "execute_result"
    }
   ],
   "source": [
    "df_hanjas['JLPT'].mean()"
   ]
  }
 ],
 "metadata": {
  "kernelspec": {
   "display_name": "Python 3 (ipykernel)",
   "language": "python",
   "name": "python3"
  },
  "language_info": {
   "codemirror_mode": {
    "name": "ipython",
    "version": 3
   },
   "file_extension": ".py",
   "mimetype": "text/x-python",
   "name": "python",
   "nbconvert_exporter": "python",
   "pygments_lexer": "ipython3",
   "version": "3.9.7"
  }
 },
 "nbformat": 4,
 "nbformat_minor": 5
}
