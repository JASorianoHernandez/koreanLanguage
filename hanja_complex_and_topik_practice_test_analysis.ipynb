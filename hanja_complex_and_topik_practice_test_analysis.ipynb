{
 "cells": [
  {
   "cell_type": "markdown",
   "id": "3d9d0184",
   "metadata": {},
   "source": [
    "# Processing Hanja"
   ]
  },
  {
   "cell_type": "markdown",
   "id": "66fc716d",
   "metadata": {},
   "source": [
    "## Importing Libraries"
   ]
  },
  {
   "cell_type": "code",
   "execution_count": 43,
   "id": "75206aae",
   "metadata": {},
   "outputs": [
    {
     "name": "stdout",
     "output_type": "stream",
     "text": [
      "['네, 안녕하세요.', '반갑습니다.']\n"
     ]
    }
   ],
   "source": [
    "##### This really depends for every computer, so please be caerful with the instalation\n",
    "##!pip install konlpy\n",
    "import pandas as pd\n",
    "from konlpy.tag import Kkma, Hannanum, Komoran\n",
    "from konlpy.utils import pprint\n",
    "kkma = Kkma()\n",
    "hannanum = Hannanum()\n",
    "komoran = Komoran()\n",
    "pprint(kkma.sentences(u'네, 안녕하세요. 반갑습니다.'))"
   ]
  },
  {
   "cell_type": "code",
   "execution_count": 4,
   "id": "32fbe689",
   "metadata": {},
   "outputs": [
    {
     "name": "stdout",
     "output_type": "stream",
     "text": [
      "[('오류', 'NNG'),\n",
      " ('보고', 'NNG'),\n",
      " ('는', 'JX'),\n",
      " ('실행', 'NNG'),\n",
      " ('환경', 'NNG'),\n",
      " (',', 'SP'),\n",
      " ('에러', 'NNG'),\n",
      " ('메세지', 'NNG'),\n",
      " ('와', 'JKM'),\n",
      " ('함께', 'MAG'),\n",
      " ('설명', 'NNG'),\n",
      " ('을', 'JKO'),\n",
      " ('최대한', 'NNG'),\n",
      " ('상세히', 'MAG'),\n",
      " ('!', 'SF'),\n",
      " ('^^', 'EMO')]\n"
     ]
    }
   ],
   "source": [
    "#This is an example about how knply library works.\n",
    "#The library clasiffies a text word by word analizyng what the word is\n",
    "pprint(kkma.pos(u'오류보고는 실행환경, 에러메세지와함께 설명을 최대한상세히!^^'))"
   ]
  },
  {
   "cell_type": "code",
   "execution_count": 7,
   "id": "e6578fa3",
   "metadata": {},
   "outputs": [
    {
     "name": "stdout",
     "output_type": "stream",
     "text": [
      "['질문', '건의', '건의사항', '사항', '깃헙', '이슈', '트래커']\n"
     ]
    }
   ],
   "source": [
    "#this examples prints all the nouns found in the text\n",
    "pprint(kkma.nouns(u'질문이나 건의사항은 깃헙 이슈 트래커에 남겨주세요.'))"
   ]
  },
  {
   "cell_type": "code",
   "execution_count": 14,
   "id": "c99b7c9b",
   "metadata": {},
   "outputs": [
    {
     "name": "stdout",
     "output_type": "stream",
     "text": [
      "['질문이나 건의사항은 깃헙 이슈 트래커에 남겨 주세요.']\n"
     ]
    }
   ],
   "source": [
    "#this examples prints all the sentences\n",
    "pprint(kkma.sentences(u'질문이나 건의사항은 깃헙 이슈 트래커에 남겨주세요.'))"
   ]
  },
  {
   "cell_type": "code",
   "execution_count": 10,
   "id": "d758d210",
   "metadata": {},
   "outputs": [
    {
     "name": "stdout",
     "output_type": "stream",
     "text": [
      "['__class__', '__delattr__', '__dict__', '__dir__', '__doc__', '__eq__', '__format__', '__ge__', '__getattribute__', '__gt__', '__hash__', '__init__', '__init_subclass__', '__le__', '__lt__', '__module__', '__ne__', '__new__', '__reduce__', '__reduce_ex__', '__repr__', '__setattr__', '__sizeof__', '__str__', '__subclasshook__', '__weakref__', 'jki', 'morphs', 'nouns', 'pos', 'sentences', 'tagset']\n"
     ]
    }
   ],
   "source": [
    "## those are all the attributes\n",
    "print(dir(kkma))"
   ]
  },
  {
   "cell_type": "markdown",
   "id": "df75a535",
   "metadata": {},
   "source": [
    "## hanja analazyng / 한자 분석하기"
   ]
  },
  {
   "cell_type": "code",
   "execution_count": 21,
   "id": "c128e938",
   "metadata": {},
   "outputs": [],
   "source": [
    "df_hanjas = pd.read_csv(\"hanjas.csv\")"
   ]
  },
  {
   "cell_type": "code",
   "execution_count": 22,
   "id": "e5b1aca1",
   "metadata": {},
   "outputs": [
    {
     "data": {
      "text/html": [
       "<div>\n",
       "<style scoped>\n",
       "    .dataframe tbody tr th:only-of-type {\n",
       "        vertical-align: middle;\n",
       "    }\n",
       "\n",
       "    .dataframe tbody tr th {\n",
       "        vertical-align: top;\n",
       "    }\n",
       "\n",
       "    .dataframe thead th {\n",
       "        text-align: right;\n",
       "    }\n",
       "</style>\n",
       "<table border=\"1\" class=\"dataframe\">\n",
       "  <thead>\n",
       "    <tr style=\"text-align: right;\">\n",
       "      <th></th>\n",
       "      <th>hanja한자</th>\n",
       "      <th>strokes총획수</th>\n",
       "      <th>sound장단음</th>\n",
       "      <th>meaningKr_1</th>\n",
       "      <th>meaningKr_2</th>\n",
       "      <th>sound長短音</th>\n",
       "      <th>JLPT</th>\n",
       "      <th>meaningEsp_1</th>\n",
       "      <th>meaningEsp_2</th>\n",
       "    </tr>\n",
       "  </thead>\n",
       "  <tbody>\n",
       "    <tr>\n",
       "      <th>0</th>\n",
       "      <td>含</td>\n",
       "      <td>7.0</td>\n",
       "      <td>머금을 함</td>\n",
       "      <td>머금다</td>\n",
       "      <td>품다</td>\n",
       "      <td>ふく.む</td>\n",
       "      <td>2.0</td>\n",
       "      <td>guardar</td>\n",
       "      <td>encubar</td>\n",
       "    </tr>\n",
       "    <tr>\n",
       "      <th>1</th>\n",
       "      <td>血</td>\n",
       "      <td>6.0</td>\n",
       "      <td>피 혈</td>\n",
       "      <td>피</td>\n",
       "      <td>물들이다</td>\n",
       "      <td>ち</td>\n",
       "      <td>3.0</td>\n",
       "      <td>sangre</td>\n",
       "      <td>teñir</td>\n",
       "    </tr>\n",
       "    <tr>\n",
       "      <th>2</th>\n",
       "      <td>噴</td>\n",
       "      <td>15.0</td>\n",
       "      <td>뿜을 분</td>\n",
       "      <td>뿜다</td>\n",
       "      <td>꾸짖다</td>\n",
       "      <td>ふ.く</td>\n",
       "      <td>1.0</td>\n",
       "      <td>exhalar</td>\n",
       "      <td>reprender</td>\n",
       "    </tr>\n",
       "    <tr>\n",
       "      <th>3</th>\n",
       "      <td>人</td>\n",
       "      <td>2.0</td>\n",
       "      <td>사람 인</td>\n",
       "      <td>사람</td>\n",
       "      <td>인간</td>\n",
       "      <td>ひと</td>\n",
       "      <td>5.0</td>\n",
       "      <td>persona</td>\n",
       "      <td>humano</td>\n",
       "    </tr>\n",
       "    <tr>\n",
       "      <th>4</th>\n",
       "      <td>先</td>\n",
       "      <td>6.0</td>\n",
       "      <td>먼저 선</td>\n",
       "      <td>먼저</td>\n",
       "      <td>이전</td>\n",
       "      <td>さき</td>\n",
       "      <td>5.0</td>\n",
       "      <td>primero</td>\n",
       "      <td>tranferencia</td>\n",
       "    </tr>\n",
       "    <tr>\n",
       "      <th>5</th>\n",
       "      <td>汚</td>\n",
       "      <td>6.0</td>\n",
       "      <td>더러울 오</td>\n",
       "      <td>더럽다</td>\n",
       "      <td>나쁘다</td>\n",
       "      <td>きたな</td>\n",
       "      <td>2.0</td>\n",
       "      <td>ensuciarse</td>\n",
       "      <td>malo</td>\n",
       "    </tr>\n",
       "    <tr>\n",
       "      <th>6</th>\n",
       "      <td>其</td>\n",
       "      <td>8.0</td>\n",
       "      <td>그 기</td>\n",
       "      <td>그</td>\n",
       "      <td>만약</td>\n",
       "      <td>それ</td>\n",
       "      <td>5.0</td>\n",
       "      <td>eso</td>\n",
       "      <td>si</td>\n",
       "    </tr>\n",
       "    <tr>\n",
       "      <th>7</th>\n",
       "      <td>口</td>\n",
       "      <td>3.0</td>\n",
       "      <td>입 구</td>\n",
       "      <td>입</td>\n",
       "      <td>어귀</td>\n",
       "      <td>くち</td>\n",
       "      <td>4.0</td>\n",
       "      <td>boca</td>\n",
       "      <td>entrada</td>\n",
       "    </tr>\n",
       "    <tr>\n",
       "      <th>8</th>\n",
       "      <td>海</td>\n",
       "      <td>10.0</td>\n",
       "      <td>바다 해</td>\n",
       "      <td>바다</td>\n",
       "      <td>바닷 물</td>\n",
       "      <td>うみ</td>\n",
       "      <td>4.0</td>\n",
       "      <td>mar</td>\n",
       "      <td>agua de mar</td>\n",
       "    </tr>\n",
       "    <tr>\n",
       "      <th>9</th>\n",
       "      <td>不</td>\n",
       "      <td>4.0</td>\n",
       "      <td>아닐 부</td>\n",
       "      <td>아니다</td>\n",
       "      <td>아니하다</td>\n",
       "      <td>ふ</td>\n",
       "      <td>4.0</td>\n",
       "      <td>no</td>\n",
       "      <td>negarse</td>\n",
       "    </tr>\n",
       "  </tbody>\n",
       "</table>\n",
       "</div>"
      ],
      "text/plain": [
       "  hanja한자  strokes총획수 sound장단음 meaningKr_1 meaningKr_2 sound長短音  JLPT  \\\n",
       "0       含         7.0    머금을 함         머금다          품다     ふく.む   2.0   \n",
       "1       血         6.0      피 혈           피        물들이다        ち   3.0   \n",
       "2       噴        15.0     뿜을 분          뿜다         꾸짖다      ふ.く   1.0   \n",
       "3       人         2.0     사람 인          사람          인간       ひと   5.0   \n",
       "4       先         6.0     먼저 선          먼저          이전       さき   5.0   \n",
       "5       汚         6.0    더러울 오         더럽다         나쁘다      きたな   2.0   \n",
       "6       其         8.0      그 기           그          만약       それ   5.0   \n",
       "7       口         3.0      입 구           입          어귀       くち   4.0   \n",
       "8       海        10.0     바다 해          바다        바닷 물       うみ   4.0   \n",
       "9       不         4.0     아닐 부         아니다        아니하다        ふ   4.0   \n",
       "\n",
       "  meaningEsp_1  meaningEsp_2  \n",
       "0      guardar       encubar  \n",
       "1       sangre         teñir  \n",
       "2      exhalar     reprender  \n",
       "3      persona        humano  \n",
       "4      primero  tranferencia  \n",
       "5   ensuciarse          malo  \n",
       "6          eso            si  \n",
       "7         boca       entrada  \n",
       "8          mar   agua de mar  \n",
       "9           no       negarse  "
      ]
     },
     "execution_count": 22,
     "metadata": {},
     "output_type": "execute_result"
    }
   ],
   "source": [
    "df_hanjas.head(10)"
   ]
  },
  {
   "cell_type": "code",
   "execution_count": 23,
   "id": "84fb9bee",
   "metadata": {},
   "outputs": [
    {
     "data": {
      "text/plain": [
       "[('0', 'NR'),\n",
       " ('머금', 'VV'),\n",
       " ('다', 'ECS'),\n",
       " ('1', 'NR'),\n",
       " ('피', 'NNG'),\n",
       " ('2', 'NR'),\n",
       " ('뿜', 'VV'),\n",
       " ('다', 'ECS'),\n",
       " ('3', 'NR'),\n",
       " ('사람', 'NNG'),\n",
       " ('4', 'NR'),\n",
       " ('먼저', 'MAG'),\n",
       " ('...', 'SE'),\n",
       " ('100', 'NR'),\n",
       " ('꺼지', 'VV'),\n",
       " ('ㄹ', 'ETD'),\n",
       " ('101', 'NR'),\n",
       " ('몸', 'NNG'),\n",
       " ('102', 'NR'),\n",
       " ('도', 'NNG'),\n",
       " ('끼', 'NNG'),\n",
       " ('103', 'NR'),\n",
       " ('잇', 'VA'),\n",
       " ('기', 'ETN'),\n",
       " ('104', 'NR'),\n",
       " ('NaN', 'OL'),\n",
       " ('Name', 'OL'),\n",
       " (':', 'SP'),\n",
       " ('meaningKr', 'OL'),\n",
       " ('_', 'SW'),\n",
       " ('1', 'NR'),\n",
       " (',', 'SP'),\n",
       " ('Length', 'OL'),\n",
       " (':', 'SP'),\n",
       " ('105', 'NR'),\n",
       " (',', 'SP'),\n",
       " ('dtype', 'OL'),\n",
       " (':', 'SP'),\n",
       " ('object', 'OL')]"
      ]
     },
     "execution_count": 23,
     "metadata": {},
     "output_type": "execute_result"
    }
   ],
   "source": [
    "kkma.pos(str(df_hanjas['meaningKr_1'][:]))"
   ]
  },
  {
   "cell_type": "code",
   "execution_count": 24,
   "id": "fa3b8809",
   "metadata": {},
   "outputs": [
    {
     "name": "stdout",
     "output_type": "stream",
     "text": [
      "[('머금', 'VV'), ('다', 'EFN')]\n"
     ]
    }
   ],
   "source": [
    "pprint(kkma.pos(str(df_hanjas['meaningKr_1'][0])))"
   ]
  },
  {
   "cell_type": "code",
   "execution_count": 25,
   "id": "785a6efc",
   "metadata": {},
   "outputs": [
    {
     "data": {
      "text/plain": [
       "9.596153846153847"
      ]
     },
     "execution_count": 25,
     "metadata": {},
     "output_type": "execute_result"
    }
   ],
   "source": [
    "df_hanjas['strokes총획수'].mean()"
   ]
  },
  {
   "cell_type": "code",
   "execution_count": 26,
   "id": "ec42859a",
   "metadata": {},
   "outputs": [
    {
     "data": {
      "text/plain": [
       "24.0"
      ]
     },
     "execution_count": 26,
     "metadata": {},
     "output_type": "execute_result"
    }
   ],
   "source": [
    "df_hanjas['strokes총획수'].max()"
   ]
  },
  {
   "cell_type": "code",
   "execution_count": 27,
   "id": "7d3b4546",
   "metadata": {},
   "outputs": [
    {
     "data": {
      "text/plain": [
       "2.0"
      ]
     },
     "execution_count": 27,
     "metadata": {},
     "output_type": "execute_result"
    }
   ],
   "source": [
    "df_hanjas['strokes총획수'].min()"
   ]
  },
  {
   "cell_type": "code",
   "execution_count": 28,
   "id": "479e86ce",
   "metadata": {},
   "outputs": [
    {
     "data": {
      "text/plain": [
       "2.894230769230769"
      ]
     },
     "execution_count": 28,
     "metadata": {},
     "output_type": "execute_result"
    }
   ],
   "source": [
    "df_hanjas['JLPT'].mean()"
   ]
  },
  {
   "cell_type": "code",
   "execution_count": 29,
   "id": "0a50f09e",
   "metadata": {},
   "outputs": [],
   "source": [
    "df_hanjas[['A', 'B']] = df_hanjas['sound장단음'].str.split(' ', 1, expand=True)"
   ]
  },
  {
   "cell_type": "code",
   "execution_count": 30,
   "id": "1b00ff53",
   "metadata": {},
   "outputs": [
    {
     "name": "stdout",
     "output_type": "stream",
     "text": [
      "    hanja한자  strokes총획수 sound장단음 meaningKr_1 meaningKr_2 sound長短音  JLPT  \\\n",
      "9         不         4.0     아닐 부         아니다        아니하다        ふ   4.0   \n",
      "31        膚        15.0     살갗 부          살갗         겉껍질       はだ   2.0   \n",
      "35        母         5.0    어머니 모         어머니         NaN       はは   5.0   \n",
      "102       斧         8.0     도끼 부          도끼         NaN        フ   3.0   \n",
      "\n",
      "    meaningEsp_1   meaningEsp_2    A  B  \n",
      "9             no        negarse   아닐  부  \n",
      "31         piel   piel exterior   살갗  부  \n",
      "35         madre            NaN  어머니  모  \n",
      "102        hacha            NaN   도끼  부  \n"
     ]
    }
   ],
   "source": [
    "lst_indexes = ['부','모']\n",
    " \n",
    " \n",
    "rows = df_hanjas[df_hanjas['B'].isin(lst_indexes)]\n",
    "print(rows)"
   ]
  },
  {
   "cell_type": "code",
   "execution_count": 31,
   "id": "ef11b5c5",
   "metadata": {},
   "outputs": [
    {
     "data": {
      "text/html": [
       "<div>\n",
       "<style scoped>\n",
       "    .dataframe tbody tr th:only-of-type {\n",
       "        vertical-align: middle;\n",
       "    }\n",
       "\n",
       "    .dataframe tbody tr th {\n",
       "        vertical-align: top;\n",
       "    }\n",
       "\n",
       "    .dataframe thead th {\n",
       "        text-align: right;\n",
       "    }\n",
       "</style>\n",
       "<table border=\"1\" class=\"dataframe\">\n",
       "  <thead>\n",
       "    <tr style=\"text-align: right;\">\n",
       "      <th></th>\n",
       "      <th>hanja한자</th>\n",
       "      <th>strokes총획수</th>\n",
       "      <th>sound장단음</th>\n",
       "      <th>meaningKr_1</th>\n",
       "      <th>meaningKr_2</th>\n",
       "      <th>sound長短音</th>\n",
       "      <th>JLPT</th>\n",
       "      <th>meaningEsp_1</th>\n",
       "      <th>meaningEsp_2</th>\n",
       "      <th>A</th>\n",
       "      <th>B</th>\n",
       "      <th>장단음</th>\n",
       "    </tr>\n",
       "  </thead>\n",
       "  <tbody>\n",
       "    <tr>\n",
       "      <th>0</th>\n",
       "      <td>含</td>\n",
       "      <td>7.0</td>\n",
       "      <td>머금을 함</td>\n",
       "      <td>머금다</td>\n",
       "      <td>품다</td>\n",
       "      <td>ふく.む</td>\n",
       "      <td>2.0</td>\n",
       "      <td>guardar</td>\n",
       "      <td>encubar</td>\n",
       "      <td>머금을</td>\n",
       "      <td>함</td>\n",
       "      <td>None</td>\n",
       "    </tr>\n",
       "    <tr>\n",
       "      <th>1</th>\n",
       "      <td>血</td>\n",
       "      <td>6.0</td>\n",
       "      <td>피 혈</td>\n",
       "      <td>피</td>\n",
       "      <td>물들이다</td>\n",
       "      <td>ち</td>\n",
       "      <td>3.0</td>\n",
       "      <td>sangre</td>\n",
       "      <td>teñir</td>\n",
       "      <td>피</td>\n",
       "      <td>혈</td>\n",
       "      <td>None</td>\n",
       "    </tr>\n",
       "    <tr>\n",
       "      <th>2</th>\n",
       "      <td>噴</td>\n",
       "      <td>15.0</td>\n",
       "      <td>뿜을 분</td>\n",
       "      <td>뿜다</td>\n",
       "      <td>꾸짖다</td>\n",
       "      <td>ふ.く</td>\n",
       "      <td>1.0</td>\n",
       "      <td>exhalar</td>\n",
       "      <td>reprender</td>\n",
       "      <td>뿜을</td>\n",
       "      <td>분</td>\n",
       "      <td>None</td>\n",
       "    </tr>\n",
       "    <tr>\n",
       "      <th>3</th>\n",
       "      <td>人</td>\n",
       "      <td>2.0</td>\n",
       "      <td>사람 인</td>\n",
       "      <td>사람</td>\n",
       "      <td>인간</td>\n",
       "      <td>ひと</td>\n",
       "      <td>5.0</td>\n",
       "      <td>persona</td>\n",
       "      <td>humano</td>\n",
       "      <td>사람</td>\n",
       "      <td>인</td>\n",
       "      <td>None</td>\n",
       "    </tr>\n",
       "    <tr>\n",
       "      <th>4</th>\n",
       "      <td>先</td>\n",
       "      <td>6.0</td>\n",
       "      <td>먼저 선</td>\n",
       "      <td>먼저</td>\n",
       "      <td>이전</td>\n",
       "      <td>さき</td>\n",
       "      <td>5.0</td>\n",
       "      <td>primero</td>\n",
       "      <td>tranferencia</td>\n",
       "      <td>먼저</td>\n",
       "      <td>선</td>\n",
       "      <td>None</td>\n",
       "    </tr>\n",
       "    <tr>\n",
       "      <th>...</th>\n",
       "      <td>...</td>\n",
       "      <td>...</td>\n",
       "      <td>...</td>\n",
       "      <td>...</td>\n",
       "      <td>...</td>\n",
       "      <td>...</td>\n",
       "      <td>...</td>\n",
       "      <td>...</td>\n",
       "      <td>...</td>\n",
       "      <td>...</td>\n",
       "      <td>...</td>\n",
       "      <td>...</td>\n",
       "    </tr>\n",
       "    <tr>\n",
       "      <th>100</th>\n",
       "      <td>滅</td>\n",
       "      <td>13.0</td>\n",
       "      <td>꺼질 멸, 멸할 멸</td>\n",
       "      <td>꺼질</td>\n",
       "      <td>멸할</td>\n",
       "      <td>メツ</td>\n",
       "      <td>1.0</td>\n",
       "      <td>ruina</td>\n",
       "      <td>NaN</td>\n",
       "      <td>꺼질</td>\n",
       "      <td>멸, 멸할 멸</td>\n",
       "      <td>None</td>\n",
       "    </tr>\n",
       "    <tr>\n",
       "      <th>101</th>\n",
       "      <td>身</td>\n",
       "      <td>7.0</td>\n",
       "      <td>몸 신</td>\n",
       "      <td>몸</td>\n",
       "      <td>NaN</td>\n",
       "      <td>シン</td>\n",
       "      <td>3.0</td>\n",
       "      <td>cuerpo</td>\n",
       "      <td>NaN</td>\n",
       "      <td>몸</td>\n",
       "      <td>신</td>\n",
       "      <td>None</td>\n",
       "    </tr>\n",
       "    <tr>\n",
       "      <th>102</th>\n",
       "      <td>斧</td>\n",
       "      <td>8.0</td>\n",
       "      <td>도끼 부</td>\n",
       "      <td>도끼</td>\n",
       "      <td>NaN</td>\n",
       "      <td>フ</td>\n",
       "      <td>3.0</td>\n",
       "      <td>hacha</td>\n",
       "      <td>NaN</td>\n",
       "      <td>도끼</td>\n",
       "      <td>부</td>\n",
       "      <td>None</td>\n",
       "    </tr>\n",
       "    <tr>\n",
       "      <th>103</th>\n",
       "      <td>也</td>\n",
       "      <td>3.0</td>\n",
       "      <td>잇기 야</td>\n",
       "      <td>잇기</td>\n",
       "      <td>어조사</td>\n",
       "      <td>ヤ</td>\n",
       "      <td>1.0</td>\n",
       "      <td>ser</td>\n",
       "      <td>NaN</td>\n",
       "      <td>잇기</td>\n",
       "      <td>야</td>\n",
       "      <td>None</td>\n",
       "    </tr>\n",
       "    <tr>\n",
       "      <th>104</th>\n",
       "      <td>NaN</td>\n",
       "      <td>NaN</td>\n",
       "      <td>NaN</td>\n",
       "      <td>NaN</td>\n",
       "      <td>NaN</td>\n",
       "      <td>NaN</td>\n",
       "      <td>NaN</td>\n",
       "      <td>NaN</td>\n",
       "      <td>NaN</td>\n",
       "      <td>NaN</td>\n",
       "      <td>NaN</td>\n",
       "      <td>None</td>\n",
       "    </tr>\n",
       "  </tbody>\n",
       "</table>\n",
       "<p>105 rows × 12 columns</p>\n",
       "</div>"
      ],
      "text/plain": [
       "    hanja한자  strokes총획수    sound장단음 meaningKr_1 meaningKr_2 sound長短音  JLPT  \\\n",
       "0         含         7.0       머금을 함         머금다          품다     ふく.む   2.0   \n",
       "1         血         6.0         피 혈           피        물들이다        ち   3.0   \n",
       "2         噴        15.0        뿜을 분          뿜다         꾸짖다      ふ.く   1.0   \n",
       "3         人         2.0        사람 인          사람          인간       ひと   5.0   \n",
       "4         先         6.0        먼저 선          먼저          이전       さき   5.0   \n",
       "..      ...         ...         ...         ...         ...      ...   ...   \n",
       "100       滅        13.0  꺼질 멸, 멸할 멸          꺼질          멸할       メツ   1.0   \n",
       "101       身         7.0         몸 신           몸         NaN       シン   3.0   \n",
       "102       斧         8.0        도끼 부          도끼         NaN        フ   3.0   \n",
       "103       也         3.0        잇기 야          잇기         어조사        ヤ   1.0   \n",
       "104     NaN         NaN         NaN         NaN         NaN      NaN   NaN   \n",
       "\n",
       "    meaningEsp_1  meaningEsp_2    A        B   장단음  \n",
       "0        guardar       encubar  머금을        함  None  \n",
       "1         sangre         teñir    피        혈  None  \n",
       "2        exhalar     reprender   뿜을        분  None  \n",
       "3        persona        humano   사람        인  None  \n",
       "4        primero  tranferencia   먼저        선  None  \n",
       "..           ...           ...  ...      ...   ...  \n",
       "100        ruina           NaN   꺼질  멸, 멸할 멸  None  \n",
       "101       cuerpo           NaN    몸        신  None  \n",
       "102        hacha           NaN   도끼        부  None  \n",
       "103          ser           NaN   잇기        야  None  \n",
       "104          NaN           NaN  NaN      NaN  None  \n",
       "\n",
       "[105 rows x 12 columns]"
      ]
     },
     "execution_count": 31,
     "metadata": {},
     "output_type": "execute_result"
    }
   ],
   "source": [
    "df_hanjas['장단음']=None\n",
    "df_hanjas"
   ]
  },
  {
   "cell_type": "markdown",
   "id": "975c32cf",
   "metadata": {},
   "source": [
    "## topik practice test analazyng / 토픽 연습 분석하기"
   ]
  },
  {
   "cell_type": "code",
   "execution_count": 33,
   "id": "429998fe",
   "metadata": {},
   "outputs": [],
   "source": [
    "df_topik = pd.read_csv(\"topik_study.csv\")"
   ]
  },
  {
   "cell_type": "code",
   "execution_count": 34,
   "id": "3d516430",
   "metadata": {},
   "outputs": [
    {
     "data": {
      "text/html": [
       "<div>\n",
       "<style scoped>\n",
       "    .dataframe tbody tr th:only-of-type {\n",
       "        vertical-align: middle;\n",
       "    }\n",
       "\n",
       "    .dataframe tbody tr th {\n",
       "        vertical-align: top;\n",
       "    }\n",
       "\n",
       "    .dataframe thead th {\n",
       "        text-align: right;\n",
       "    }\n",
       "</style>\n",
       "<table border=\"1\" class=\"dataframe\">\n",
       "  <thead>\n",
       "    <tr style=\"text-align: right;\">\n",
       "      <th></th>\n",
       "      <th>question</th>\n",
       "      <th>option</th>\n",
       "      <th>answer</th>\n",
       "    </tr>\n",
       "  </thead>\n",
       "  <tbody>\n",
       "    <tr>\n",
       "      <th>0</th>\n",
       "      <td>4</td>\n",
       "      <td>1</td>\n",
       "      <td>그 친구가 사과할지도 몰라요.</td>\n",
       "    </tr>\n",
       "    <tr>\n",
       "      <th>1</th>\n",
       "      <td>4</td>\n",
       "      <td>2</td>\n",
       "      <td>다시 만날 수 있읗 텐데요. 뭐.</td>\n",
       "    </tr>\n",
       "    <tr>\n",
       "      <th>2</th>\n",
       "      <td>4</td>\n",
       "      <td>3</td>\n",
       "      <td>먼저 미안하고 해 보는 게 어때요?</td>\n",
       "    </tr>\n",
       "    <tr>\n",
       "      <th>3</th>\n",
       "      <td>4</td>\n",
       "      <td>4</td>\n",
       "      <td>전 언제든지 괜찮아요. 제가 도와줄게요.</td>\n",
       "    </tr>\n",
       "    <tr>\n",
       "      <th>4</th>\n",
       "      <td>5</td>\n",
       "      <td>1</td>\n",
       "      <td>우선 박물관부터 들러 보세요.</td>\n",
       "    </tr>\n",
       "    <tr>\n",
       "      <th>5</th>\n",
       "      <td>5</td>\n",
       "      <td>2</td>\n",
       "      <td>한국의 전통을 이해하는 게 중요하죠.</td>\n",
       "    </tr>\n",
       "    <tr>\n",
       "      <th>6</th>\n",
       "      <td>5</td>\n",
       "      <td>3</td>\n",
       "      <td>그럼 전주 같은 도시에 가 보지 그래요?</td>\n",
       "    </tr>\n",
       "    <tr>\n",
       "      <th>7</th>\n",
       "      <td>5</td>\n",
       "      <td>4</td>\n",
       "      <td>그래도 경주에 가면 한국 역사를 배울 수 있잖아요.</td>\n",
       "    </tr>\n",
       "    <tr>\n",
       "      <th>8</th>\n",
       "      <td>6</td>\n",
       "      <td>1</td>\n",
       "      <td>그래. 오늘 갑값은 내가 낼게.</td>\n",
       "    </tr>\n",
       "    <tr>\n",
       "      <th>9</th>\n",
       "      <td>6</td>\n",
       "      <td>2</td>\n",
       "      <td>괜찮아. 다음에는 네가 사면 되지.</td>\n",
       "    </tr>\n",
       "  </tbody>\n",
       "</table>\n",
       "</div>"
      ],
      "text/plain": [
       "   question  option                        answer\n",
       "0         4       1              그 친구가 사과할지도 몰라요.\n",
       "1         4       2            다시 만날 수 있읗 텐데요. 뭐.\n",
       "2         4       3           먼저 미안하고 해 보는 게 어때요?\n",
       "3         4       4        전 언제든지 괜찮아요. 제가 도와줄게요.\n",
       "4         5       1              우선 박물관부터 들러 보세요.\n",
       "5         5       2          한국의 전통을 이해하는 게 중요하죠.\n",
       "6         5       3        그럼 전주 같은 도시에 가 보지 그래요?\n",
       "7         5       4  그래도 경주에 가면 한국 역사를 배울 수 있잖아요.\n",
       "8         6       1             그래. 오늘 갑값은 내가 낼게.\n",
       "9         6       2           괜찮아. 다음에는 네가 사면 되지."
      ]
     },
     "execution_count": 34,
     "metadata": {},
     "output_type": "execute_result"
    }
   ],
   "source": [
    "df_topik.head(10)"
   ]
  },
  {
   "cell_type": "code",
   "execution_count": 36,
   "id": "d3060882",
   "metadata": {
    "scrolled": true
   },
   "outputs": [
    {
     "data": {
      "text/plain": [
       "[('0', 'NR'),\n",
       " ('그', 'MDT'),\n",
       " ('친구', 'NNG'),\n",
       " ('가', 'JKS'),\n",
       " ('사과', 'NNG'),\n",
       " ('하', 'XSV'),\n",
       " ('ㄹ지', 'ECD'),\n",
       " ('도', 'JX'),\n",
       " ('모르', 'VV'),\n",
       " ('아요', 'EFN'),\n",
       " ('.', 'SF'),\n",
       " ('1', 'NR'),\n",
       " ('다시', 'NNG'),\n",
       " ('만나', 'VV'),\n",
       " ('ㄹ', 'ETD'),\n",
       " ('수', 'NNB'),\n",
       " ('있읗', 'UN'),\n",
       " ('터', 'NNB'),\n",
       " ('이', 'VCP'),\n",
       " ('ㄴ데요', 'EFN'),\n",
       " ('.', 'SF'),\n",
       " ('뭐', 'NP'),\n",
       " ('.', 'SF'),\n",
       " ('2', 'NR'),\n",
       " ('먼저', 'MAG'),\n",
       " ('미안', 'NNG'),\n",
       " ('하', 'XSV'),\n",
       " ('고', 'ECE'),\n",
       " ('하', 'VV'),\n",
       " ('어', 'ECS'),\n",
       " ('보', 'VXV'),\n",
       " ('는', 'ETD'),\n",
       " ('것', 'NNB'),\n",
       " ('이', 'JKS'),\n",
       " ('어', 'VV'),\n",
       " ('어', 'ECS'),\n",
       " ('때', 'NNG'),\n",
       " ('이', 'VCP'),\n",
       " ('요', 'EFN'),\n",
       " ('?', 'SF'),\n",
       " ('3', 'NR'),\n",
       " ('전', 'NNM'),\n",
       " ('언제', 'NP'),\n",
       " ('든지', 'JX'),\n",
       " ('괜찮', 'VA'),\n",
       " ('아요', 'EFN'),\n",
       " ('.', 'SF'),\n",
       " ('저', 'NP'),\n",
       " ('가', 'JKS'),\n",
       " ('도와주', 'VV'),\n",
       " ('ㄹ게요', 'EFN'),\n",
       " ('.', 'SF'),\n",
       " ('4', 'NR'),\n",
       " ('우선', 'MAG'),\n",
       " ('박물관', 'NNG'),\n",
       " ('부터', 'JX'),\n",
       " ('들르', 'VV'),\n",
       " ('어', 'ECS'),\n",
       " ('보', 'VXV'),\n",
       " ('세요', 'EFN'),\n",
       " ('.', 'SF'),\n",
       " ('...', 'SE'),\n",
       " ('63', 'NR'),\n",
       " ('NaN', 'OL'),\n",
       " ('64', 'NR'),\n",
       " ('NaN', 'OL'),\n",
       " ('65', 'NR'),\n",
       " ('NaN', 'OL'),\n",
       " ('66', 'NR'),\n",
       " ('NaN', 'OL'),\n",
       " ('67', 'NR'),\n",
       " ('NaN', 'OL'),\n",
       " ('Name', 'OL'),\n",
       " (':', 'SP'),\n",
       " ('answer', 'OL'),\n",
       " (',', 'SP'),\n",
       " ('Length', 'OL'),\n",
       " (':', 'SP'),\n",
       " ('68', 'NR'),\n",
       " (',', 'SP'),\n",
       " ('dtype', 'OL'),\n",
       " (':', 'SP'),\n",
       " ('object', 'OL')]"
      ]
     },
     "execution_count": 36,
     "metadata": {},
     "output_type": "execute_result"
    }
   ],
   "source": [
    "kkma.pos(str(pprint(kkma.sentences(str(df_topik['answer'][1])))[:]))"
   ]
  },
  {
   "cell_type": "code",
   "execution_count": 51,
   "id": "cb72c2bf",
   "metadata": {},
   "outputs": [
    {
     "name": "stdout",
     "output_type": "stream",
     "text": [
      "['응. 드디어 오늘 기다리던 첫 월급을 받았거든.']\n"
     ]
    }
   ],
   "source": [
    "pprint(kkma.sentences(str(df_topik['answer'][11])))"
   ]
  },
  {
   "cell_type": "code",
   "execution_count": 52,
   "id": "23cdf591",
   "metadata": {
    "scrolled": true
   },
   "outputs": [
    {
     "name": "stdout",
     "output_type": "stream",
     "text": [
      "[('응', 'UN'),\n",
      " ('.', 'SF'),\n",
      " ('드디어', 'MAG'),\n",
      " ('오늘', 'NNG'),\n",
      " ('기다리', 'VV'),\n",
      " ('더', 'EPT'),\n",
      " ('ㄴ', 'ETD'),\n",
      " ('첫', 'MDT'),\n",
      " ('월급', 'NNG'),\n",
      " ('을', 'JKO'),\n",
      " ('받', 'VV'),\n",
      " ('았', 'EPT'),\n",
      " ('거든', 'EFN'),\n",
      " ('.', 'SF')]\n"
     ]
    }
   ],
   "source": [
    "pprint(kkma.pos(str(df_topik['answer'][11])))"
   ]
  },
  {
   "cell_type": "code",
   "execution_count": 48,
   "id": "3ee8b250",
   "metadata": {},
   "outputs": [
    {
     "name": "stdout",
     "output_type": "stream",
     "text": [
      "[('다시', 'M'),\n",
      " ('만나', 'P'),\n",
      " ('ㄹ', 'E'),\n",
      " ('수', 'N'),\n",
      " ('있읗', 'N'),\n",
      " ('텐데요', 'N'),\n",
      " ('.', 'S'),\n",
      " ('뭐', 'I'),\n",
      " ('.', 'S')]\n"
     ]
    }
   ],
   "source": [
    "pprint(hannanum.pos(str(df_topik['answer'][1])))"
   ]
  },
  {
   "cell_type": "code",
   "execution_count": 49,
   "id": "8bea3309",
   "metadata": {},
   "outputs": [
    {
     "name": "stdout",
     "output_type": "stream",
     "text": [
      "[('다시', 'MAG'),\n",
      " ('만나', 'VV'),\n",
      " ('ㄹ', 'ETM'),\n",
      " ('수', 'NNB'),\n",
      " ('있읗', 'NA'),\n",
      " ('텐', 'NNG'),\n",
      " ('데', 'NNB'),\n",
      " ('요', 'JX'),\n",
      " ('.', 'SF'),\n",
      " ('뭐', 'IC'),\n",
      " ('.', 'SF')]\n"
     ]
    }
   ],
   "source": [
    "pprint(komoran.pos(str(df_topik['answer'][1])))"
   ]
  },
  {
   "cell_type": "code",
   "execution_count": 50,
   "id": "ff89db4a",
   "metadata": {},
   "outputs": [
    {
     "name": "stdout",
     "output_type": "stream",
     "text": [
      "['다시 만날 수 있읗 텐데요.', '뭐.']\n"
     ]
    }
   ],
   "source": [
    "pprint(kkma.sentences(str(df_topik['answer'][1])))"
   ]
  }
 ],
 "metadata": {
  "kernelspec": {
   "display_name": "Python 3 (ipykernel)",
   "language": "python",
   "name": "python3"
  },
  "language_info": {
   "codemirror_mode": {
    "name": "ipython",
    "version": 3
   },
   "file_extension": ".py",
   "mimetype": "text/x-python",
   "name": "python",
   "nbconvert_exporter": "python",
   "pygments_lexer": "ipython3",
   "version": "3.9.7"
  }
 },
 "nbformat": 4,
 "nbformat_minor": 5
}
